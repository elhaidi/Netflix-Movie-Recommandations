{
 "cells": [
  {
   "cell_type": "markdown",
   "metadata": {
    "colab_type": "text",
    "id": "1kmagNKcxrjf"
   },
   "source": [
    "<h1>1. Business Problem </h1>"
   ]
  },
  {
   "cell_type": "markdown",
   "metadata": {
    "colab_type": "text",
    "id": "7clD4Lcyxrjg"
   },
   "source": [
    "<h2> 1.1 Problem Description </h2>"
   ]
  },
  {
   "cell_type": "markdown",
   "metadata": {
    "colab_type": "text",
    "id": "0ziEM4YZxrji"
   },
   "source": [
    "<p>\n",
    "Netflix is all about connecting people to the movies they love. To help customers find those movies, they developed world-class movie recommendation system: CinematchSM. Its job is to predict whether someone will enjoy a movie based on how much they liked or disliked other movies. Netflix use those predictions to make personal movie recommendations based on each customer’s unique tastes. And while <b>Cinematch</b> is doing pretty well, it can always be made better.\n",
    "</p>\n",
    "<p>Now there are a lot of interesting alternative approaches to how Cinematch works that netflix haven’t tried. Some are described in the literature, some aren’t. We’re curious whether any of these can beat Cinematch by making better predictions. Because, frankly, if there is a much better approach it could make a big difference to our customers and our business.</p>\n",
    "<p> Credits: https://www.netflixprize.com/rules.html </p>"
   ]
  },
  {
   "cell_type": "markdown",
   "metadata": {
    "colab_type": "text",
    "id": "txuaAQapxrjk"
   },
   "source": [
    "<h2> 1.2 Problem Statement </h2>"
   ]
  },
  {
   "cell_type": "markdown",
   "metadata": {
    "colab_type": "text",
    "id": "5v50M1Zbxrjl"
   },
   "source": [
    "<p>\n",
    "Netflix provided a lot of anonymous rating data, and a prediction accuracy bar that is 10% better than what Cinematch can do on the same training data set. (Accuracy is a measurement of how closely predicted ratings of movies match subsequent actual ratings.) \n",
    "</p>"
   ]
  },
  {
   "cell_type": "markdown",
   "metadata": {
    "colab_type": "text",
    "id": "Na0e6yL_xrjn"
   },
   "source": [
    "<h2> 1.3 Sources </h2>"
   ]
  },
  {
   "cell_type": "markdown",
   "metadata": {
    "colab_type": "text",
    "id": "9FlrEeXhxrjo"
   },
   "source": [
    "<ul>\n",
    "<li> https://www.netflixprize.com/rules.html</li>\n",
    "<li> https://www.kaggle.com/netflix-inc/netflix-prize-data</li>\n",
    "<li> Netflix blog: https://medium.com/netflix-techblog/netflix-recommendations-beyond-the-5-stars-part-1-55838468f429 (very nice blog)</li>\n",
    "<li>surprise library: http://surpriselib.com/ (we use many models from this library)</li>\n",
    "<li>surprise library doc: http://surprise.readthedocs.io/en/stable/getting_started.html (we use many models from this library)</li>\n",
    "<li>installing surprise: https://github.com/NicolasHug/Surprise#installation </li>\n",
    "</ul>"
   ]
  },
  {
   "cell_type": "markdown",
   "metadata": {
    "colab_type": "text",
    "id": "7MrYkpDqxrjq"
   },
   "source": [
    "<h2>1.4 Real world/Business Objectives and constraints  </h2>"
   ]
  },
  {
   "cell_type": "markdown",
   "metadata": {
    "colab_type": "text",
    "id": "qU2RiBYSxrjs"
   },
   "source": [
    "Objectives:\n",
    "1. Predict the rating that a user would give to a movie that he ahs not yet rated.\n",
    "2. Minimize the difference between predicted and actual rating (RMSE and MAPE)\n",
    "<br>\n",
    "\n",
    "Constraints:\n",
    "1. Some form of interpretability."
   ]
  },
  {
   "cell_type": "markdown",
   "metadata": {
    "colab_type": "text",
    "id": "OHaMsF48xrju"
   },
   "source": [
    "<h1> 2. Machine Learning Problem </h1>"
   ]
  },
  {
   "cell_type": "markdown",
   "metadata": {
    "colab_type": "text",
    "id": "ZvI3c9Nzxrjv"
   },
   "source": [
    "<h2>2.1 Data </h2>"
   ]
  },
  {
   "cell_type": "markdown",
   "metadata": {
    "colab_type": "text",
    "id": "HumNBQ7Bxrjx"
   },
   "source": [
    "<h3> 2.1.1 Data Overview </h3>"
   ]
  },
  {
   "cell_type": "markdown",
   "metadata": {
    "colab_type": "text",
    "id": "VE1V4-Twxrjz"
   },
   "source": [
    "<p> Get the data from : https://www.kaggle.com/netflix-inc/netflix-prize-data/data </p>\n",
    "<p> Data files : \n",
    "<ul> \n",
    "<li> combined_data_1.txt </li>\n",
    "<li> combined_data_2.txt </li>\n",
    "<li> combined_data_3.txt </li>\n",
    "<li> combined_data_4.txt </li>\n",
    "<li> movie_titles.csv </li>\n",
    "</ul>\n",
    "<pre>  \n",
    "The first line of each file [combined_data_1.txt, combined_data_2.txt, combined_data_3.txt, combined_data_4.txt] contains the movie id followed by a colon. Each subsequent line in the file corresponds to a rating from a customer and its date in the following format:\n",
    "\n",
    "CustomerID,Rating,Date\n",
    "\n",
    "MovieIDs range from 1 to 17770 sequentially.\n",
    "CustomerIDs range from 1 to 2649429, with gaps. There are 480189 users.\n",
    "Ratings are on a five star (integral) scale from 1 to 5.\n",
    "Dates have the format YYYY-MM-DD.\n",
    "</pre>"
   ]
  },
  {
   "cell_type": "markdown",
   "metadata": {
    "colab_type": "text",
    "id": "oyEGal9sxrj0"
   },
   "source": [
    "<h3> 2.1.2 Example Data point </h3>"
   ]
  },
  {
   "cell_type": "markdown",
   "metadata": {
    "colab_type": "text",
    "id": "-7vD4mHyxrj3"
   },
   "source": [
    "<pre>\n",
    "1:\n",
    "1488844,3,2005-09-06\n",
    "822109,5,2005-05-13\n",
    "885013,4,2005-10-19\n",
    "30878,4,2005-12-26\n",
    "823519,3,2004-05-03\n",
    "893988,3,2005-11-17\n",
    "124105,4,2004-08-05\n",
    "1248029,3,2004-04-22\n",
    "1842128,4,2004-05-09\n",
    "2238063,3,2005-05-11\n",
    "1503895,4,2005-05-19\n",
    "2207774,5,2005-06-06\n",
    "2590061,3,2004-08-12\n",
    "2442,3,2004-04-14\n",
    "543865,4,2004-05-28\n",
    "1209119,4,2004-03-23\n",
    "804919,4,2004-06-10\n",
    "1086807,3,2004-12-28\n",
    "1711859,4,2005-05-08\n",
    "372233,5,2005-11-23\n",
    "1080361,3,2005-03-28\n",
    "1245640,3,2005-12-19\n",
    "558634,4,2004-12-14\n",
    "2165002,4,2004-04-06\n",
    "1181550,3,2004-02-01\n",
    "1227322,4,2004-02-06\n",
    "427928,4,2004-02-26\n",
    "814701,5,2005-09-29\n",
    "808731,4,2005-10-31\n",
    "662870,5,2005-08-24\n",
    "337541,5,2005-03-23\n",
    "786312,3,2004-11-16\n",
    "1133214,4,2004-03-07\n",
    "1537427,4,2004-03-29\n",
    "1209954,5,2005-05-09\n",
    "2381599,3,2005-09-12\n",
    "525356,2,2004-07-11\n",
    "1910569,4,2004-04-12\n",
    "2263586,4,2004-08-20\n",
    "2421815,2,2004-02-26\n",
    "1009622,1,2005-01-19\n",
    "1481961,2,2005-05-24\n",
    "401047,4,2005-06-03\n",
    "2179073,3,2004-08-29\n",
    "1434636,3,2004-05-01\n",
    "93986,5,2005-10-06\n",
    "1308744,5,2005-10-29\n",
    "2647871,4,2005-12-30\n",
    "1905581,5,2005-08-16\n",
    "2508819,3,2004-05-18\n",
    "1578279,1,2005-05-19\n",
    "1159695,4,2005-02-15\n",
    "2588432,3,2005-03-31\n",
    "2423091,3,2005-09-12\n",
    "470232,4,2004-04-08\n",
    "2148699,2,2004-06-05\n",
    "1342007,3,2004-07-16\n",
    "466135,4,2004-07-13\n",
    "2472440,3,2005-08-13\n",
    "1283744,3,2004-04-17\n",
    "1927580,4,2004-11-08\n",
    "716874,5,2005-05-06\n",
    "4326,4,2005-10-29\n",
    "</pre>"
   ]
  },
  {
   "cell_type": "markdown",
   "metadata": {
    "colab_type": "text",
    "id": "vJAMqwT0xrj5"
   },
   "source": [
    "<h2>2.2 Mapping the real world problem to a Machine Learning Problem </h2>"
   ]
  },
  {
   "cell_type": "markdown",
   "metadata": {
    "colab_type": "text",
    "id": "SmpWpWWnxrj6"
   },
   "source": [
    "<h3> 2.2.1 Type of Machine Learning Problem </h3>"
   ]
  },
  {
   "cell_type": "markdown",
   "metadata": {
    "colab_type": "text",
    "id": "Cr8wSkj5xrj8"
   },
   "source": [
    "<pre>\n",
    "For a given movie and user we need to predict the rating would be given by him/her to the movie. \n",
    "The given problem is a Recommendation problem \n",
    "It can also seen as a Regression problem \n",
    "</pre>"
   ]
  },
  {
   "cell_type": "markdown",
   "metadata": {
    "colab_type": "text",
    "id": "OTC1X3lZxrj9"
   },
   "source": [
    "<h3> 2.2.2 Performance metric </h3>"
   ]
  },
  {
   "cell_type": "markdown",
   "metadata": {
    "colab_type": "text",
    "id": "2zzpYin-xrj_"
   },
   "source": [
    "<ul>\n",
    "<li> Mean Absolute Percentage Error: https://en.wikipedia.org/wiki/Mean_absolute_percentage_error </li>\n",
    "<li> Root Mean Square Error: https://en.wikipedia.org/wiki/Root-mean-square_deviation </li>\n",
    "</ul>\n"
   ]
  },
  {
   "cell_type": "markdown",
   "metadata": {
    "colab_type": "text",
    "id": "ApZlKG6txrkB"
   },
   "source": [
    "<h3> 2.2.3 Machine Learning Objective and Constraints </h3>"
   ]
  },
  {
   "cell_type": "markdown",
   "metadata": {
    "colab_type": "text",
    "id": "nPmLCDJ3xrkC"
   },
   "source": [
    "1. Minimize RMSE.\n",
    "2. Try to provide some interpretability."
   ]
  },
  {
   "cell_type": "code",
   "execution_count": 0,
   "metadata": {
    "colab": {},
    "colab_type": "code",
    "id": "SOP8G-jbxrkF"
   },
   "outputs": [],
   "source": [
    "# this is just to know how much time will it take to run this entire ipython notebook \n",
    "from datetime import datetime\n",
    "# globalstart = datetime.now()\n",
    "import pandas as pd\n",
    "import numpy as np\n",
    "import matplotlib\n",
    "matplotlib.use('nbagg')\n",
    "\n",
    "import matplotlib.pyplot as plt\n",
    "plt.rcParams.update({'figure.max_open_warning': 0})\n",
    "\n",
    "import seaborn as sns\n",
    "sns.set_style('whitegrid')\n",
    "import os\n",
    "from scipy import sparse\n",
    "from scipy.sparse import csr_matrix\n",
    "\n",
    "from sklearn.decomposition import TruncatedSVD\n",
    "from sklearn.metrics.pairwise import cosine_similarity\n",
    "import random"
   ]
  },
  {
   "cell_type": "markdown",
   "metadata": {
    "colab_type": "text",
    "id": "uPz7RGR_xrkM"
   },
   "source": [
    " "
   ]
  },
  {
   "cell_type": "code",
   "execution_count": null,
   "metadata": {},
   "outputs": [],
   "source": []
  }
 ],
 "metadata": {
  "kernelspec": {
   "display_name": "Python 3",
   "language": "python",
   "name": "python3"
  },
  "language_info": {
   "codemirror_mode": {
    "name": "ipython",
    "version": 3
   },
   "file_extension": ".py",
   "mimetype": "text/x-python",
   "name": "python",
   "nbconvert_exporter": "python",
   "pygments_lexer": "ipython3",
   "version": "3.7.3"
  }
 },
 "nbformat": 4,
 "nbformat_minor": 2
}
